{
  "nbformat": 4,
  "nbformat_minor": 0,
  "metadata": {
    "colab": {
      "provenance": [],
      "include_colab_link": true
    },
    "kernelspec": {
      "name": "python3",
      "display_name": "Python 3"
    },
    "language_info": {
      "name": "python"
    }
  },
  "cells": [
    {
      "cell_type": "markdown",
      "metadata": {
        "id": "view-in-github",
        "colab_type": "text"
      },
      "source": [
        "<a href=\"https://colab.research.google.com/github/IhkafAmeny/ABIDE-Dataset/blob/main/Downloading_ABIDE.ipynb\" target=\"_parent\"><img src=\"https://colab.research.google.com/assets/colab-badge.svg\" alt=\"Open In Colab\"/></a>"
      ]
    },
    {
      "cell_type": "code",
      "source": [
        "!pip install nilearn --quiet\n",
        "from nilearn import datasets\n",
        "import pandas as pd\n",
        "import os\n",
        "import zipfile\n",
        "from google.colab import files\n",
        "\n",
        "print(\"Downloading ABIDE dataset (CPAC pipeline)\")\n",
        "abide = datasets.fetch_abide_pcp(\n",
        "    n_subjects=250,\n",
        "    pipeline='cpac',\n",
        "    derivatives=['func_preproc'],\n",
        "    quality_checked=True\n",
        ")\n",
        "print(\"Download complete.\")\n",
        "\n",
        "image_paths = abide.func_preproc[:1000]\n",
        "phenotypes = abide.phenotypic\n",
        "\n",
        "df = pd.DataFrame({\n",
        "    'image_path': image_paths,\n",
        "    'subject_id': phenotypes['SUB_ID'],\n",
        "    'diagnosis': phenotypes['DX_GROUP'].map({1: 'Control', 2: 'Autism'}),\n",
        "    'sex': phenotypes['SEX'].map({1: 'Male', 2: 'Female'}),\n",
        "    'age': phenotypes['AGE_AT_SCAN'],\n",
        "    'site': phenotypes['SITE_ID']\n",
        "})\n",
        "\n",
        "csv_path = \"/content/phenotypes.csv\"\n",
        "df.to_csv(csv_path, index=False)\n",
        "print(f\"CSV saved at: {csv_path}\")\n",
        "\n",
        "zip_path = \"/content/ABIDE_250.zip\"\n",
        "with zipfile.ZipFile(zip_path, 'w') as zipf:\n",
        "    print(\"Compressing ABIDE files...\")\n",
        "    for path in df['image_path']:\n",
        "        arcname = os.path.basename(path)\n",
        "        zipf.write(path, arcname=arcname)\n",
        "    zipf.write(csv_path, arcname=\"phenotypes.csv\")\n",
        "print(f\"Compression complete: {zip_path}\")\n",
        "\n",
        "files.download(zip_path)"
      ],
      "metadata": {
        "id": "FYMHnV8VZaqj"
      },
      "execution_count": null,
      "outputs": []
    }
  ]
}