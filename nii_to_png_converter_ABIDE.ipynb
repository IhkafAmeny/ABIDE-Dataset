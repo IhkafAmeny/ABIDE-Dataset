{
  "nbformat": 4,
  "nbformat_minor": 0,
  "metadata": {
    "colab": {
      "provenance": [],
      "authorship_tag": "ABX9TyOlSQ+ymG0zrosfW6WWf/Qi",
      "include_colab_link": true
    },
    "kernelspec": {
      "name": "python3",
      "display_name": "Python 3"
    },
    "language_info": {
      "name": "python"
    }
  },
  "cells": [
    {
      "cell_type": "markdown",
      "metadata": {
        "id": "view-in-github",
        "colab_type": "text"
      },
      "source": [
        "<a href=\"https://colab.research.google.com/github/IhkafAmeny/ABIDE-Dataset/blob/main/nii_to_png_converter_ABIDE.ipynb\" target=\"_parent\"><img src=\"https://colab.research.google.com/assets/colab-badge.svg\" alt=\"Open In Colab\"/></a>"
      ]
    },
    {
      "cell_type": "code",
      "execution_count": null,
      "metadata": {
        "id": "8TE-nY_2ksLu"
      },
      "outputs": [],
      "source": [
        "# 📦 Installer les bibliothèques nécessaires\n",
        "!pip install nibabel pillow tqdm --quiet\n",
        "\n",
        "# 📚 Importer les bibliothèques\n",
        "import os\n",
        "import nibabel as nib\n",
        "import numpy as np\n",
        "from PIL import Image\n",
        "from tqdm import tqdm\n",
        "from google.colab import drive, files\n",
        "\n",
        "drive.mount('/content/drive')\n",
        "\n",
        "input_folder = '/content/drive/MyDrive/Master Ameny Ihkaf/abide dataset/abide1000/image'\n",
        "output_folder = '/content/abide_png_output'\n",
        "os.makedirs(output_folder, exist_ok=True)\n",
        "\n",
        "\n",
        "def normalize_image(data):\n",
        "    data = data.astype(np.float32)\n",
        "    min_val = np.min(data)\n",
        "    max_val = np.max(data)\n",
        "\n",
        "    if max_val != min_val:\n",
        "        data = (data - min_val) / (max_val - min_val) * 255\n",
        "    else:\n",
        "        data = np.zeros_like(data)\n",
        "\n",
        "    return data.astype(np.uint8)\n",
        "\n",
        "nii_files = [f for f in os.listdir(input_folder) if f.endswith('.nii') or f.endswith('.nii.gz')]\n",
        "print(f\"Found {len(nii_files)} NIfTI files.\")\n",
        "\n",
        "processed_count = 0\n",
        "error_count = 0\n",
        "\n",
        "for filename in tqdm(nii_files, desc=\"Converting NIfTI to PNG\"):\n",
        "    filepath = os.path.join(input_folder, filename)\n",
        "\n",
        "    try:\n",
        "        img = nib.load(filepath)\n",
        "        data = img.get_fdata()\n",
        "\n",
        "        # Nom de fichier PNG\n",
        "        if filename.endswith('.nii.gz'):\n",
        "            png_name = filename[:-7] + '.png'\n",
        "        elif filename.endswith('.nii'):\n",
        "            png_name = filename[:-4] + '.png'\n",
        "        else:\n",
        "            png_name = filename + '.png'\n",
        "\n",
        "        # Gestion des dimensions\n",
        "        if len(data.shape) == 4:\n",
        "            data_3d = np.mean(data, axis=3)\n",
        "            center_slice = data_3d[:, :, data_3d.shape[2] // 2]\n",
        "        elif len(data.shape) == 3:\n",
        "            center_slice = data[:, :, data.shape[2] // 2]\n",
        "        elif len(data.shape) == 2:\n",
        "            center_slice = data\n",
        "        else:\n",
        "            print(f\"IGNORED: {filename} (unsupported shape {data.shape})\")\n",
        "            continue\n",
        "\n",
        "        # Normaliser et sauvegarder\n",
        "        slice_normalized = normalize_image(center_slice)\n",
        "        slice_normalized = np.rot90(slice_normalized)  # orienter correctement\n",
        "        img_pil = Image.fromarray(slice_normalized)\n",
        "\n",
        "        output_path = os.path.join(output_folder, png_name)\n",
        "        img_pil.save(output_path)\n",
        "\n",
        "        processed_count += 1\n",
        "\n",
        "    except Exception as e:\n",
        "        print(f\"ERROR with {filename}: {e}\")\n",
        "        error_count += 1\n",
        "\n",
        "example_files = os.listdir(output_folder)\n",
        "if example_files:\n",
        "    print(f\"\\nSample PNG: {example_files[0]}\")\n",
        "    files.download(os.path.join(output_folder, example_files[0]))\n"
      ]
    }
  ]
}